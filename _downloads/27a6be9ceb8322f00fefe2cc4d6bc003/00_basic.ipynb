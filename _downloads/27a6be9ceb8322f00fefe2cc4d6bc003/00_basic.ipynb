{
  "cells": [
    {
      "cell_type": "markdown",
      "metadata": {},
      "source": [
        "\n# Basic Usage of FEMIO\n\nFEMIO can be used as a converter, load data in a format, and write data in\nanother format.\n"
      ]
    },
    {
      "cell_type": "markdown",
      "metadata": {},
      "source": [
        "Import numpy and :mod:`femio`.\n\n"
      ]
    },
    {
      "cell_type": "code",
      "execution_count": null,
      "metadata": {
        "collapsed": false
      },
      "outputs": [],
      "source": [
        "import numpy as np\nimport femio"
      ]
    },
    {
      "cell_type": "markdown",
      "metadata": {},
      "source": [
        "First, download the\n[VTK file](https://github.com/ricosjp/femio/examples/hex.vtk) and\nplace it in the same directory as that of this script.\nIf you load the file with\n[ParaView](https://www.paraview.org/), it should look as follows.\n\n<img src=\"file://../../examples/00_basic_fig/hex_raw.png\" width=\"400\">\n\n"
      ]
    },
    {
      "cell_type": "markdown",
      "metadata": {},
      "source": [
        "Then, read the file using femio.read_files function.\nIt returns a :class:`~femio.fem_data.FEMData` object that contains mesh data.\n\n"
      ]
    },
    {
      "cell_type": "code",
      "execution_count": null,
      "metadata": {
        "collapsed": false
      },
      "outputs": [],
      "source": [
        "fem_data = femio.read_files('vtk', 'hex.vtk')"
      ]
    },
    {
      "cell_type": "markdown",
      "metadata": {},
      "source": [
        "Elsewise, one can generate a simple mesh using FEMIO's function.\n\n"
      ]
    },
    {
      "cell_type": "code",
      "execution_count": null,
      "metadata": {
        "collapsed": false
      },
      "outputs": [],
      "source": [
        "# fem_data = femio.generate_brick('hex', 1, 1, 2)"
      ]
    },
    {
      "cell_type": "markdown",
      "metadata": {},
      "source": [
        "A FEMData object has various attributes, e.g., nodes, elements.\n\nThe attribute :code:`nodes` has ids and data that means node positions.\n\n"
      ]
    },
    {
      "cell_type": "code",
      "execution_count": null,
      "metadata": {
        "collapsed": false
      },
      "outputs": [],
      "source": [
        "print(f\"Node IDs:\\n{fem_data.nodes.ids}\\n\")\nprint(f\"Node data (positions):\\n{fem_data.nodes.data}\")"
      ]
    },
    {
      "cell_type": "markdown",
      "metadata": {},
      "source": [
        "The attribute :code:`elements` has ids and data that means node\nconnectivities based on node IDs.\n\n"
      ]
    },
    {
      "cell_type": "code",
      "execution_count": null,
      "metadata": {
        "collapsed": false
      },
      "outputs": [],
      "source": [
        "print(f\"Element IDs:\\n{fem_data.elements.ids}\\n\")\nprint(f\"Element data (positions):\\n{fem_data.elements.data}\")"
      ]
    },
    {
      "cell_type": "markdown",
      "metadata": {},
      "source": [
        "Here, please note that the term 'ID' differs from the array's index.\nArray's index always starts from zero and is consecutive.\nHowever, ID does not necessarily start from zero and is consecutive.\nBy default, ID starts from one even if the original format's ID starts\nfrom zero (like VTK).\n\nPlease be aware that they correspond to :code:`loc` and :code:`iloc` in\n[pandas](https://pandas.pydata.org/pandas-docs/stable/user_guide/indexing.html),\nand one can actually use them to access data.\n\n"
      ]
    },
    {
      "cell_type": "code",
      "execution_count": null,
      "metadata": {
        "collapsed": false
      },
      "outputs": [],
      "source": [
        "print(fem_data.nodes.loc[3].values)  # Access with ID\nprint(fem_data.nodes.iloc[2].values)  # Access with index"
      ]
    },
    {
      "cell_type": "markdown",
      "metadata": {},
      "source": [
        "Now, let's add analysis conditions to perform heat analysis using\n[FrontISTR](https://github.com/FrontISTR/FrontISTR).\n\nTo add boundary conditions, we first create :class:`~FEMAttribute` objects,\nthen add them to the :code:`fem_data`.\n\n"
      ]
    },
    {
      "cell_type": "code",
      "execution_count": null,
      "metadata": {
        "collapsed": false
      },
      "outputs": [],
      "source": [
        "fixtemp = femio.FEMAttribute('fixtemp', np.array([1, 12]), np.array([0., 1.]))\nfem_data.constraints.update({'fixtemp': fixtemp})"
      ]
    },
    {
      "cell_type": "markdown",
      "metadata": {},
      "source": [
        "If you want to add several data with the same IDs, you can use the\n:meth:`femio.fem_attributes.FEMAttributes.update_data` method.\nHere, :code:`'MAT_ALL'` is the ID (can be multiple).\n\n"
      ]
    },
    {
      "cell_type": "code",
      "execution_count": null,
      "metadata": {
        "collapsed": false
      },
      "outputs": [],
      "source": [
        "fem_data.materials.update_data(\n    'MAT_ALL', {\n        'density': np.array([[1., 0.]]),\n        'specific_heat': np.array([[1., 0.]]),\n        'thermal_conductivity': np.array([[1., 0.]])})\nfem_data.settings['solution_type'] = 'HEAT'"
      ]
    },
    {
      "cell_type": "markdown",
      "metadata": {},
      "source": [
        "Next, we add the section's information to connect the material defined above\nto the element group (:code:`'ALL'` here means all elements in the mesh).\n\n"
      ]
    },
    {
      "cell_type": "code",
      "execution_count": null,
      "metadata": {
        "collapsed": false
      },
      "outputs": [],
      "source": [
        "fem_data.sections.update_data(\n    'MAT_ALL', {'TYPE': 'SOLID', 'EGRP': 'ALL'})"
      ]
    },
    {
      "cell_type": "markdown",
      "metadata": {},
      "source": [
        "Then, we write a FrontISTR data directory.\n\n"
      ]
    },
    {
      "cell_type": "code",
      "execution_count": null,
      "metadata": {
        "collapsed": false
      },
      "outputs": [],
      "source": [
        "fem_data.write('fistr', '00_basic_out/mesh', overwrite=True)"
      ]
    },
    {
      "cell_type": "markdown",
      "metadata": {},
      "source": [
        "Finally, run FrontISTR like a bash script shown below (Docker required).\n\n```bash\ncd 00_basic_out\ndocker pull registry.gitlab.com/frontistr-commons/frontistr/fistr1:master\ndocker run -it --sig-proxy=false --rm -u $UID -v $PWD:$PWD -w $PWD \\\n  registry.gitlab.com/frontistr-commons/frontistr/fistr1:master fistr1 -t 1\n```\nIf you load the resultant file :code:`00_basic_out/mesh_vis_psf.0001.inp`\nin ParaView, it will look as follows.\n\n<img src=\"file://../../examples/00_basic_fig/res.png\" width=\"400\">\n\nIn addition, you can load that file and analyze the data.\n\n"
      ]
    },
    {
      "cell_type": "code",
      "execution_count": null,
      "metadata": {
        "collapsed": false
      },
      "outputs": [],
      "source": [
        "res_fem_data = femio.read_files('ucd', '00_basic_out/mesh_vis_psf.0001.inp')\ntemperature = res_fem_data.nodal_data['TEMPERATURE'].data\nprint(f\"\\nCalculated temperature:\\n{temperature}\\n\")\nprint(f\"Mean temperature:\\n{np.mean(temperature)}\")"
      ]
    }
  ],
  "metadata": {
    "kernelspec": {
      "display_name": "Python 3",
      "language": "python",
      "name": "python3"
    },
    "language_info": {
      "codemirror_mode": {
        "name": "ipython",
        "version": 3
      },
      "file_extension": ".py",
      "mimetype": "text/x-python",
      "name": "python",
      "nbconvert_exporter": "python",
      "pygments_lexer": "ipython3",
      "version": "3.9.5"
    }
  },
  "nbformat": 4,
  "nbformat_minor": 0
}